{
 "cells": [
  {
   "cell_type": "code",
   "execution_count": 1,
   "id": "0da650e3",
   "metadata": {},
   "outputs": [],
   "source": [
    "import pandas as pd\n",
    "import re\n",
    "import nltk\n",
    "from nltk.corpus import stopwords\n",
    "from bs4 import BeautifulSoup\n",
    "from sklearn.model_selection import train_test_split\n",
    "from sklearn.feature_extraction.text import TfidfVectorizer\n",
    "from sklearn.naive_bayes import MultinomialNB\n",
    "from sklearn.metrics import accuracy_score, precision_score, recall_score, f1_score"
   ]
  },
  {
   "cell_type": "code",
   "execution_count": 2,
   "id": "3239f90d",
   "metadata": {},
   "outputs": [],
   "source": [
    "data_df = pd.read_csv('../data/new.csv')"
   ]
  },
  {
   "cell_type": "code",
   "execution_count": 3,
   "id": "e693b742",
   "metadata": {},
   "outputs": [
    {
     "data": {
      "text/html": [
       "<div>\n",
       "<style scoped>\n",
       "    .dataframe tbody tr th:only-of-type {\n",
       "        vertical-align: middle;\n",
       "    }\n",
       "\n",
       "    .dataframe tbody tr th {\n",
       "        vertical-align: top;\n",
       "    }\n",
       "\n",
       "    .dataframe thead th {\n",
       "        text-align: right;\n",
       "    }\n",
       "</style>\n",
       "<table border=\"1\" class=\"dataframe\">\n",
       "  <thead>\n",
       "    <tr style=\"text-align: right;\">\n",
       "      <th></th>\n",
       "      <th>title</th>\n",
       "      <th>url</th>\n",
       "      <th>comms_num</th>\n",
       "      <th>flair</th>\n",
       "      <th>score</th>\n",
       "      <th>id</th>\n",
       "      <th>created</th>\n",
       "      <th>author</th>\n",
       "      <th>body</th>\n",
       "    </tr>\n",
       "  </thead>\n",
       "  <tbody>\n",
       "    <tr>\n",
       "      <th>0</th>\n",
       "      <td>AskScience Panel of Scientists XXVIII</td>\n",
       "      <td>https://www.reddit.com/r/askscience/comments/1...</td>\n",
       "      <td>31</td>\n",
       "      <td>Panel Applications</td>\n",
       "      <td>359</td>\n",
       "      <td>10e3nfa</td>\n",
       "      <td>1673932275</td>\n",
       "      <td>AskScienceModerator</td>\n",
       "      <td>**Please read this entire post carefully and f...</td>\n",
       "    </tr>\n",
       "    <tr>\n",
       "      <th>1</th>\n",
       "      <td>AskScience’s concerns regarding Reddit’s API c...</td>\n",
       "      <td>https://www.reddit.com/r/askscience/comments/1...</td>\n",
       "      <td>1</td>\n",
       "      <td>NaN</td>\n",
       "      <td>40805</td>\n",
       "      <td>147epb8</td>\n",
       "      <td>1686543618</td>\n",
       "      <td>AskScienceModerator</td>\n",
       "      <td>In April 2023, [Reddit announced they would be...</td>\n",
       "    </tr>\n",
       "    <tr>\n",
       "      <th>2</th>\n",
       "      <td>How can this substance \"Allkaline pyrogulic ac...</td>\n",
       "      <td>https://www.reddit.com/r/askscience/comments/1...</td>\n",
       "      <td>39</td>\n",
       "      <td>Chemistry</td>\n",
       "      <td>503</td>\n",
       "      <td>14wpwv1</td>\n",
       "      <td>1689078214</td>\n",
       "      <td>Ok-Sleep8655</td>\n",
       "      <td>NaN</td>\n",
       "    </tr>\n",
       "    <tr>\n",
       "      <th>3</th>\n",
       "      <td>After the universe reaches maximum entropy and...</td>\n",
       "      <td>https://www.reddit.com/r/askscience/comments/1...</td>\n",
       "      <td>295</td>\n",
       "      <td>Physics</td>\n",
       "      <td>857</td>\n",
       "      <td>14vyevw</td>\n",
       "      <td>1689005667</td>\n",
       "      <td>Torpaskor</td>\n",
       "      <td>I've thought about this before, but im nowhere...</td>\n",
       "    </tr>\n",
       "    <tr>\n",
       "      <th>4</th>\n",
       "      <td>AskScience AMA Series: We are hear to discuss ...</td>\n",
       "      <td>https://www.reddit.com/r/askscience/comments/1...</td>\n",
       "      <td>99</td>\n",
       "      <td>Neuroscience</td>\n",
       "      <td>447</td>\n",
       "      <td>14vqstn</td>\n",
       "      <td>1688986829</td>\n",
       "      <td>AskScienceModerator</td>\n",
       "      <td>Hello Reddit! We are researchers at the Nation...</td>\n",
       "    </tr>\n",
       "  </tbody>\n",
       "</table>\n",
       "</div>"
      ],
      "text/plain": [
       "                                               title  \\\n",
       "0              AskScience Panel of Scientists XXVIII   \n",
       "1  AskScience’s concerns regarding Reddit’s API c...   \n",
       "2  How can this substance \"Allkaline pyrogulic ac...   \n",
       "3  After the universe reaches maximum entropy and...   \n",
       "4  AskScience AMA Series: We are hear to discuss ...   \n",
       "\n",
       "                                                 url  comms_num  \\\n",
       "0  https://www.reddit.com/r/askscience/comments/1...         31   \n",
       "1  https://www.reddit.com/r/askscience/comments/1...          1   \n",
       "2  https://www.reddit.com/r/askscience/comments/1...         39   \n",
       "3  https://www.reddit.com/r/askscience/comments/1...        295   \n",
       "4  https://www.reddit.com/r/askscience/comments/1...         99   \n",
       "\n",
       "                flair  score       id     created               author  \\\n",
       "0  Panel Applications    359  10e3nfa  1673932275  AskScienceModerator   \n",
       "1                 NaN  40805  147epb8  1686543618  AskScienceModerator   \n",
       "2           Chemistry    503  14wpwv1  1689078214         Ok-Sleep8655   \n",
       "3             Physics    857  14vyevw  1689005667            Torpaskor   \n",
       "4        Neuroscience    447  14vqstn  1688986829  AskScienceModerator   \n",
       "\n",
       "                                                body  \n",
       "0  **Please read this entire post carefully and f...  \n",
       "1  In April 2023, [Reddit announced they would be...  \n",
       "2                                                NaN  \n",
       "3  I've thought about this before, but im nowhere...  \n",
       "4  Hello Reddit! We are researchers at the Nation...  "
      ]
     },
     "execution_count": 3,
     "metadata": {},
     "output_type": "execute_result"
    }
   ],
   "source": [
    "data_df.head()"
   ]
  },
  {
   "cell_type": "code",
   "execution_count": 4,
   "id": "60ffab77",
   "metadata": {},
   "outputs": [
    {
     "name": "stdout",
     "output_type": "stream",
     "text": [
      "title           0\n",
      "url             0\n",
      "comms_num       0\n",
      "flair         224\n",
      "score           0\n",
      "id              0\n",
      "created         0\n",
      "author        420\n",
      "body         3192\n",
      "dtype: int64\n"
     ]
    },
    {
     "data": {
      "text/plain": [
       "title        13888\n",
       "url          13888\n",
       "comms_num    13888\n",
       "flair        13664\n",
       "score        13888\n",
       "id           13888\n",
       "created      13888\n",
       "author       13468\n",
       "body         10696\n",
       "dtype: int64"
      ]
     },
     "execution_count": 4,
     "metadata": {},
     "output_type": "execute_result"
    }
   ],
   "source": [
    "print(data_df.isnull().sum())\n",
    "data_df.count()"
   ]
  },
  {
   "cell_type": "code",
   "execution_count": 13,
   "id": "4859d2d2",
   "metadata": {},
   "outputs": [
    {
     "name": "stdout",
     "output_type": "stream",
     "text": [
      "title        0\n",
      "url          0\n",
      "comms_num    0\n",
      "flair        0\n",
      "score        0\n",
      "id           0\n",
      "created      0\n",
      "author       0\n",
      "body         0\n",
      "dtype: int64\n",
      "title        13888\n",
      "url          13888\n",
      "comms_num    13888\n",
      "flair        13888\n",
      "score        13888\n",
      "id           13888\n",
      "created      13888\n",
      "author       13888\n",
      "body         13888\n",
      "dtype: int64\n"
     ]
    }
   ],
   "source": [
    "data_df = data_df.fillna(\"na\")\n",
    "print(data_df.isnull().sum())\n",
    "print(data_df.count())"
   ]
  },
  {
   "cell_type": "code",
   "execution_count": 14,
   "id": "70e93c4c",
   "metadata": {},
   "outputs": [],
   "source": [
    "data = data_df.loc[:, ['title', 'flair']]"
   ]
  },
  {
   "cell_type": "code",
   "execution_count": 15,
   "id": "4b210b5a",
   "metadata": {},
   "outputs": [
    {
     "data": {
      "text/html": [
       "<div>\n",
       "<style scoped>\n",
       "    .dataframe tbody tr th:only-of-type {\n",
       "        vertical-align: middle;\n",
       "    }\n",
       "\n",
       "    .dataframe tbody tr th {\n",
       "        vertical-align: top;\n",
       "    }\n",
       "\n",
       "    .dataframe thead th {\n",
       "        text-align: right;\n",
       "    }\n",
       "</style>\n",
       "<table border=\"1\" class=\"dataframe\">\n",
       "  <thead>\n",
       "    <tr style=\"text-align: right;\">\n",
       "      <th></th>\n",
       "      <th>title</th>\n",
       "      <th>flair</th>\n",
       "    </tr>\n",
       "  </thead>\n",
       "  <tbody>\n",
       "    <tr>\n",
       "      <th>0</th>\n",
       "      <td>AskScience Panel of Scientists XXVIII</td>\n",
       "      <td>Panel Applications</td>\n",
       "    </tr>\n",
       "    <tr>\n",
       "      <th>1</th>\n",
       "      <td>AskScience’s concerns regarding Reddit’s API c...</td>\n",
       "      <td>na</td>\n",
       "    </tr>\n",
       "    <tr>\n",
       "      <th>2</th>\n",
       "      <td>How can this substance \"Allkaline pyrogulic ac...</td>\n",
       "      <td>Chemistry</td>\n",
       "    </tr>\n",
       "    <tr>\n",
       "      <th>3</th>\n",
       "      <td>After the universe reaches maximum entropy and...</td>\n",
       "      <td>Physics</td>\n",
       "    </tr>\n",
       "    <tr>\n",
       "      <th>4</th>\n",
       "      <td>AskScience AMA Series: We are hear to discuss ...</td>\n",
       "      <td>Neuroscience</td>\n",
       "    </tr>\n",
       "  </tbody>\n",
       "</table>\n",
       "</div>"
      ],
      "text/plain": [
       "                                               title               flair\n",
       "0              AskScience Panel of Scientists XXVIII  Panel Applications\n",
       "1  AskScience’s concerns regarding Reddit’s API c...                  na\n",
       "2  How can this substance \"Allkaline pyrogulic ac...           Chemistry\n",
       "3  After the universe reaches maximum entropy and...             Physics\n",
       "4  AskScience AMA Series: We are hear to discuss ...        Neuroscience"
      ]
     },
     "execution_count": 15,
     "metadata": {},
     "output_type": "execute_result"
    }
   ],
   "source": [
    "data.head()"
   ]
  },
  {
   "cell_type": "code",
   "execution_count": 16,
   "id": "822a5d3a",
   "metadata": {},
   "outputs": [],
   "source": [
    "x=data['title']\n",
    "y=data['flair']"
   ]
  },
  {
   "cell_type": "code",
   "execution_count": 17,
   "id": "87893634",
   "metadata": {},
   "outputs": [
    {
     "data": {
      "text/plain": [
       "0                    AskScience Panel of Scientists XXVIII\n",
       "1        AskScience’s concerns regarding Reddit’s API c...\n",
       "2        How can this substance \"Allkaline pyrogulic ac...\n",
       "3        After the universe reaches maximum entropy and...\n",
       "4        AskScience AMA Series: We are hear to discuss ...\n",
       "                               ...                        \n",
       "13883    What is the incidence of tobacco related illne...\n",
       "13884    Why does temperature determine the sex of cert...\n",
       "13885    Are we past the tipping point for the insect p...\n",
       "13886    What percentage of prey animals die without be...\n",
       "13887    How is lepton flavor conserved in oscillating ...\n",
       "Name: title, Length: 13888, dtype: object"
      ]
     },
     "execution_count": 17,
     "metadata": {},
     "output_type": "execute_result"
    }
   ],
   "source": [
    "x"
   ]
  },
  {
   "cell_type": "code",
   "execution_count": 18,
   "id": "7ca8f8a9",
   "metadata": {},
   "outputs": [
    {
     "data": {
      "text/plain": [
       "0        Panel Applications\n",
       "1                        na\n",
       "2                 Chemistry\n",
       "3                   Physics\n",
       "4              Neuroscience\n",
       "                ...        \n",
       "13883              Medicine\n",
       "13884               Biology\n",
       "13885               Biology\n",
       "13886               Biology\n",
       "13887               Physics\n",
       "Name: flair, Length: 13888, dtype: object"
      ]
     },
     "execution_count": 18,
     "metadata": {},
     "output_type": "execute_result"
    }
   ],
   "source": [
    "y"
   ]
  },
  {
   "cell_type": "code",
   "execution_count": 19,
   "id": "478beeca",
   "metadata": {},
   "outputs": [],
   "source": [
    "X_train, X_test, y_train, y_test = train_test_split(x, y, test_size=0.25, random_state=0)"
   ]
  },
  {
   "cell_type": "code",
   "execution_count": 20,
   "id": "6d5990bd",
   "metadata": {},
   "outputs": [],
   "source": [
    "vectorizer = TfidfVectorizer()\n",
    "X_train = vectorizer.fit_transform(X_train)\n",
    "X_test = vectorizer.transform(X_test)"
   ]
  },
  {
   "cell_type": "code",
   "execution_count": 21,
   "id": "7a822cd8",
   "metadata": {},
   "outputs": [
    {
     "data": {
      "text/html": [
       "<style>#sk-container-id-1 {color: black;}#sk-container-id-1 pre{padding: 0;}#sk-container-id-1 div.sk-toggleable {background-color: white;}#sk-container-id-1 label.sk-toggleable__label {cursor: pointer;display: block;width: 100%;margin-bottom: 0;padding: 0.3em;box-sizing: border-box;text-align: center;}#sk-container-id-1 label.sk-toggleable__label-arrow:before {content: \"▸\";float: left;margin-right: 0.25em;color: #696969;}#sk-container-id-1 label.sk-toggleable__label-arrow:hover:before {color: black;}#sk-container-id-1 div.sk-estimator:hover label.sk-toggleable__label-arrow:before {color: black;}#sk-container-id-1 div.sk-toggleable__content {max-height: 0;max-width: 0;overflow: hidden;text-align: left;background-color: #f0f8ff;}#sk-container-id-1 div.sk-toggleable__content pre {margin: 0.2em;color: black;border-radius: 0.25em;background-color: #f0f8ff;}#sk-container-id-1 input.sk-toggleable__control:checked~div.sk-toggleable__content {max-height: 200px;max-width: 100%;overflow: auto;}#sk-container-id-1 input.sk-toggleable__control:checked~label.sk-toggleable__label-arrow:before {content: \"▾\";}#sk-container-id-1 div.sk-estimator input.sk-toggleable__control:checked~label.sk-toggleable__label {background-color: #d4ebff;}#sk-container-id-1 div.sk-label input.sk-toggleable__control:checked~label.sk-toggleable__label {background-color: #d4ebff;}#sk-container-id-1 input.sk-hidden--visually {border: 0;clip: rect(1px 1px 1px 1px);clip: rect(1px, 1px, 1px, 1px);height: 1px;margin: -1px;overflow: hidden;padding: 0;position: absolute;width: 1px;}#sk-container-id-1 div.sk-estimator {font-family: monospace;background-color: #f0f8ff;border: 1px dotted black;border-radius: 0.25em;box-sizing: border-box;margin-bottom: 0.5em;}#sk-container-id-1 div.sk-estimator:hover {background-color: #d4ebff;}#sk-container-id-1 div.sk-parallel-item::after {content: \"\";width: 100%;border-bottom: 1px solid gray;flex-grow: 1;}#sk-container-id-1 div.sk-label:hover label.sk-toggleable__label {background-color: #d4ebff;}#sk-container-id-1 div.sk-serial::before {content: \"\";position: absolute;border-left: 1px solid gray;box-sizing: border-box;top: 0;bottom: 0;left: 50%;z-index: 0;}#sk-container-id-1 div.sk-serial {display: flex;flex-direction: column;align-items: center;background-color: white;padding-right: 0.2em;padding-left: 0.2em;position: relative;}#sk-container-id-1 div.sk-item {position: relative;z-index: 1;}#sk-container-id-1 div.sk-parallel {display: flex;align-items: stretch;justify-content: center;background-color: white;position: relative;}#sk-container-id-1 div.sk-item::before, #sk-container-id-1 div.sk-parallel-item::before {content: \"\";position: absolute;border-left: 1px solid gray;box-sizing: border-box;top: 0;bottom: 0;left: 50%;z-index: -1;}#sk-container-id-1 div.sk-parallel-item {display: flex;flex-direction: column;z-index: 1;position: relative;background-color: white;}#sk-container-id-1 div.sk-parallel-item:first-child::after {align-self: flex-end;width: 50%;}#sk-container-id-1 div.sk-parallel-item:last-child::after {align-self: flex-start;width: 50%;}#sk-container-id-1 div.sk-parallel-item:only-child::after {width: 0;}#sk-container-id-1 div.sk-dashed-wrapped {border: 1px dashed gray;margin: 0 0.4em 0.5em 0.4em;box-sizing: border-box;padding-bottom: 0.4em;background-color: white;}#sk-container-id-1 div.sk-label label {font-family: monospace;font-weight: bold;display: inline-block;line-height: 1.2em;}#sk-container-id-1 div.sk-label-container {text-align: center;}#sk-container-id-1 div.sk-container {/* jupyter's `normalize.less` sets `[hidden] { display: none; }` but bootstrap.min.css set `[hidden] { display: none !important; }` so we also need the `!important` here to be able to override the default hidden behavior on the sphinx rendered scikit-learn.org. See: https://github.com/scikit-learn/scikit-learn/issues/21755 */display: inline-block !important;position: relative;}#sk-container-id-1 div.sk-text-repr-fallback {display: none;}</style><div id=\"sk-container-id-1\" class=\"sk-top-container\"><div class=\"sk-text-repr-fallback\"><pre>MultinomialNB()</pre><b>In a Jupyter environment, please rerun this cell to show the HTML representation or trust the notebook. <br />On GitHub, the HTML representation is unable to render, please try loading this page with nbviewer.org.</b></div><div class=\"sk-container\" hidden><div class=\"sk-item\"><div class=\"sk-estimator sk-toggleable\"><input class=\"sk-toggleable__control sk-hidden--visually\" id=\"sk-estimator-id-1\" type=\"checkbox\" checked><label for=\"sk-estimator-id-1\" class=\"sk-toggleable__label sk-toggleable__label-arrow\">MultinomialNB</label><div class=\"sk-toggleable__content\"><pre>MultinomialNB()</pre></div></div></div></div></div>"
      ],
      "text/plain": [
       "MultinomialNB()"
      ]
     },
     "execution_count": 21,
     "metadata": {},
     "output_type": "execute_result"
    }
   ],
   "source": [
    "model = MultinomialNB()\n",
    "model.fit(X_train, y_train)"
   ]
  },
  {
   "cell_type": "code",
   "execution_count": 22,
   "id": "1d1f7377",
   "metadata": {},
   "outputs": [],
   "source": [
    "y_pred = model.predict(X_test)"
   ]
  },
  {
   "cell_type": "code",
   "execution_count": 23,
   "id": "2574f2ac",
   "metadata": {},
   "outputs": [
    {
     "name": "stdout",
     "output_type": "stream",
     "text": [
      "Accuracy: 0.9588133640552995\n",
      "Precision: 0.9524739432571112\n",
      "Recall: 0.9588133640552995\n",
      "F1-score: 0.9524521682037236\n"
     ]
    }
   ],
   "source": [
    "accuracy = accuracy_score(y_test, y_pred)\n",
    "precision = precision_score(y_test, y_pred, average='weighted', zero_division=0)\n",
    "recall = recall_score(y_test, y_pred, average='weighted')\n",
    "f1 = f1_score(y_test, y_pred, average='weighted')\n",
    "\n",
    "print(f'Accuracy: {accuracy}')\n",
    "print(f'Precision: {precision}')\n",
    "print(f'Recall: {recall}')\n",
    "print(f'F1-score: {f1}')"
   ]
  },
  {
   "cell_type": "code",
   "execution_count": null,
   "id": "3523c81f",
   "metadata": {},
   "outputs": [],
   "source": []
  }
 ],
 "metadata": {
  "kernelspec": {
   "display_name": "Python 3 (ipykernel)",
   "language": "python",
   "name": "python3"
  },
  "language_info": {
   "codemirror_mode": {
    "name": "ipython",
    "version": 3
   },
   "file_extension": ".py",
   "mimetype": "text/x-python",
   "name": "python",
   "nbconvert_exporter": "python",
   "pygments_lexer": "ipython3",
   "version": "3.9.13"
  }
 },
 "nbformat": 4,
 "nbformat_minor": 5
}
